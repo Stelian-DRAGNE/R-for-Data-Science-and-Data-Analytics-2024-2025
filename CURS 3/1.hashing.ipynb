{
 "cells": [
  {
   "cell_type": "markdown",
   "id": "0ff2f5c8",
   "metadata": {},
   "source": [
    "https://remix.ethereum.org/"
   ]
  },
  {
   "cell_type": "code",
   "execution_count": 1,
   "id": "e794ebac",
   "metadata": {},
   "outputs": [],
   "source": [
    "from hashlib import sha256"
   ]
  },
  {
   "cell_type": "code",
   "execution_count": 3,
   "id": "9373c209",
   "metadata": {},
   "outputs": [
    {
     "name": "stdout",
     "output_type": "stream",
     "text": [
      "<sha256 _hashlib.HASH object @ 0x000002233FC50650>\n"
     ]
    }
   ],
   "source": [
    "print(sha256(\"Hello\".encode(\"utf-8\")))"
   ]
  },
  {
   "cell_type": "code",
   "execution_count": 4,
   "id": "edf74f4a",
   "metadata": {},
   "outputs": [
    {
     "data": {
      "text/plain": [
       "<sha256 _hashlib.HASH object @ 0x000002233FC53770>"
      ]
     },
     "execution_count": 4,
     "metadata": {},
     "output_type": "execute_result"
    }
   ],
   "source": [
    "sha256(\"Hello\".encode(\"utf-8\"))"
   ]
  },
  {
   "cell_type": "code",
   "execution_count": 5,
   "id": "aa0be828",
   "metadata": {},
   "outputs": [
    {
     "data": {
      "text/plain": [
       "5956215372721991586"
      ]
     },
     "execution_count": 5,
     "metadata": {},
     "output_type": "execute_result"
    }
   ],
   "source": [
    "hash(\"Hello\")"
   ]
  }
 ],
 "metadata": {
  "kernelspec": {
   "display_name": "Python 3",
   "language": "python",
   "name": "python3"
  },
  "language_info": {
   "codemirror_mode": {
    "name": "ipython",
    "version": 3
   },
   "file_extension": ".py",
   "mimetype": "text/x-python",
   "name": "python",
   "nbconvert_exporter": "python",
   "pygments_lexer": "ipython3",
   "version": "3.13.5"
  }
 },
 "nbformat": 4,
 "nbformat_minor": 5
}
